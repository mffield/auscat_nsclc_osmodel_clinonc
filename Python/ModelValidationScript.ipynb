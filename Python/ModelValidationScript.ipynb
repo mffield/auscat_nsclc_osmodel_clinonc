{
 "cells": [
  {
   "cell_type": "code",
   "execution_count": 2,
   "metadata": {},
   "outputs": [],
   "source": [
    "import pandas as pd\n",
    "import numpy as np"
   ]
  },
  {
   "cell_type": "code",
   "execution_count": 24,
   "metadata": {},
   "outputs": [],
   "source": [
    "# Data dictionary.\n",
    "## Age (years).\n",
    "## Gender - 1 for male, 0 for female.\n",
    "## TumourVolume (cc) - Gross tumour volume primary and nodal combined.\n",
    "## ECOG2 - Performance status equal to 2.\n",
    "## EQD2 (Gray) - Equivalent radiation dose at 2Gy per fraction.\n",
    "## LocationLL - primary tumour location where 1 is lower lobe of lungs 0 is elsewhere.\n",
    "## LocationBronch - primary tumour location where 1 is bronchus 0 is elsewhere.\n",
    "## HistAdeno - Histology is adenocarcinoma.\n",
    "## NStage1 - Clinical TNM nodal stage is 1.\n",
    "## MaritalSep - Marital status is separated.\n",
    "## MaritalDiv - Marital status is divorced."
   ]
  },
  {
   "cell_type": "code",
   "execution_count": null,
   "metadata": {},
   "outputs": [],
   "source": [
    "# Load data\n",
    "\n",
    "# Here we load a CSV of the prepared data, in this we have a small dummy dataset to demonstrate.\n",
    "data = pd.read_csv('data.csv')\n",
    "columns = ['Age', 'Gender', 'TumourVolume', 'ECOG2', 'EQD2', 'LocationLL', 'LocationBronch', 'HistAdeno', 'NStage1',\n",
    "           'MaritalSep', 'MaritalDiv']"
   ]
  },
  {
   "cell_type": "code",
   "execution_count": 25,
   "metadata": {},
   "outputs": [],
   "source": [
    "# Model data\n",
    "\n",
    "#model weights plus constant term, mean and standard deviation.\n",
    "weights = np.array([-0.142, -0.217, -0.181, -0.0933, 0.25, -0.0943, -0.181, 0.185, -0.0611, -0.108, 0.0795, -0.154])\n",
    "mean = np.array([70.6, 0.652, 4.21, 0.293, 46.5, 0.287, 0.0716, 0.285, 0.115, 0.0268, 0.112])\n",
    "std = np.array([10.1, 0.476, 1.29, 0.455, 16.7, 0.453, 0.258, 0.452, 0.319, 0.161, 0.316])\n",
    "\n",
    "# log transform on tumour volume\n",
    "data['TumourVolume']=np.log(data['TumourVolume'])\n",
    "data = (data - mean)/std\n",
    "data['bias'] = 1\n",
    "prob = 1./(1+np.exp(-np.matmul(weights,data.to_numpy().T)))"
   ]
  }
 ],
 "metadata": {
  "kernelspec": {
   "display_name": "Python 3",
   "language": "python",
   "name": "python3"
  },
  "language_info": {
   "codemirror_mode": {
    "name": "ipython",
    "version": 3
   },
   "file_extension": ".py",
   "mimetype": "text/x-python",
   "name": "python",
   "nbconvert_exporter": "python",
   "pygments_lexer": "ipython3",
   "version": "3.11.1"
  }
 },
 "nbformat": 4,
 "nbformat_minor": 2
}
